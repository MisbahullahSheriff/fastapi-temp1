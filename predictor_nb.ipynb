{
 "cells": [
  {
   "cell_type": "markdown",
   "id": "f4049f31-15bc-42e3-8f05-b162ebb6733b",
   "metadata": {},
   "source": [
    "# 1. Importing Libraries"
   ]
  },
  {
   "cell_type": "code",
   "execution_count": 61,
   "id": "18d88aab-d45c-4a17-8fdd-0a10290d7068",
   "metadata": {},
   "outputs": [],
   "source": [
    "import numpy as np\n",
    "\n",
    "import pandas as pd\n",
    "\n",
    "from sklearn.model_selection import (\n",
    "\ttrain_test_split,\n",
    "\tcross_val_score\n",
    ")\n",
    "\n",
    "from sklearn.impute import SimpleImputer\n",
    "\n",
    "from sklearn.preprocessing import (\n",
    "\tStandardScaler,\n",
    "\tOneHotEncoder\n",
    ")\n",
    "\n",
    "from sklearn.pipeline import Pipeline\n",
    "\n",
    "from sklearn.compose import ColumnTransformer\n",
    "\n",
    "from sklearn.ensemble import RandomForestRegressor\n",
    "\n",
    "from sklearn.metrics import (\n",
    "\tr2_score,\n",
    "\tmake_scorer\n",
    ")\n",
    "\n",
    "import joblib"
   ]
  },
  {
   "cell_type": "markdown",
   "id": "419320ef-e638-4288-a836-0ea3aba96e97",
   "metadata": {},
   "source": [
    "# 2. Getting the Data"
   ]
  },
  {
   "cell_type": "code",
   "execution_count": 4,
   "id": "655751f9-c94d-413a-a94d-c2856999e568",
   "metadata": {},
   "outputs": [
    {
     "data": {
      "text/html": [
       "<div>\n",
       "<style scoped>\n",
       "    .dataframe tbody tr th:only-of-type {\n",
       "        vertical-align: middle;\n",
       "    }\n",
       "\n",
       "    .dataframe tbody tr th {\n",
       "        vertical-align: top;\n",
       "    }\n",
       "\n",
       "    .dataframe thead th {\n",
       "        text-align: right;\n",
       "    }\n",
       "</style>\n",
       "<table border=\"1\" class=\"dataframe\">\n",
       "  <thead>\n",
       "    <tr style=\"text-align: right;\">\n",
       "      <th></th>\n",
       "      <th>company</th>\n",
       "      <th>year</th>\n",
       "      <th>owner</th>\n",
       "      <th>fuel</th>\n",
       "      <th>km_driven</th>\n",
       "      <th>mileage_mpg</th>\n",
       "      <th>engine_cc</th>\n",
       "      <th>seats</th>\n",
       "      <th>selling_price</th>\n",
       "    </tr>\n",
       "  </thead>\n",
       "  <tbody>\n",
       "    <tr>\n",
       "      <th>0</th>\n",
       "      <td>Maruti</td>\n",
       "      <td>2014</td>\n",
       "      <td>First</td>\n",
       "      <td>Diesel</td>\n",
       "      <td>145500</td>\n",
       "      <td>55.00</td>\n",
       "      <td>1248.0</td>\n",
       "      <td>5.0</td>\n",
       "      <td>450000</td>\n",
       "    </tr>\n",
       "    <tr>\n",
       "      <th>1</th>\n",
       "      <td>Skoda</td>\n",
       "      <td>2014</td>\n",
       "      <td>Second</td>\n",
       "      <td>Diesel</td>\n",
       "      <td>120000</td>\n",
       "      <td>49.70</td>\n",
       "      <td>1498.0</td>\n",
       "      <td>5.0</td>\n",
       "      <td>370000</td>\n",
       "    </tr>\n",
       "    <tr>\n",
       "      <th>2</th>\n",
       "      <td>Honda</td>\n",
       "      <td>2006</td>\n",
       "      <td>Third</td>\n",
       "      <td>Petrol</td>\n",
       "      <td>140000</td>\n",
       "      <td>41.60</td>\n",
       "      <td>1497.0</td>\n",
       "      <td>5.0</td>\n",
       "      <td>158000</td>\n",
       "    </tr>\n",
       "    <tr>\n",
       "      <th>3</th>\n",
       "      <td>Hyundai</td>\n",
       "      <td>2010</td>\n",
       "      <td>First</td>\n",
       "      <td>Diesel</td>\n",
       "      <td>127000</td>\n",
       "      <td>54.06</td>\n",
       "      <td>1396.0</td>\n",
       "      <td>5.0</td>\n",
       "      <td>225000</td>\n",
       "    </tr>\n",
       "    <tr>\n",
       "      <th>4</th>\n",
       "      <td>Maruti</td>\n",
       "      <td>2007</td>\n",
       "      <td>First</td>\n",
       "      <td>Petrol</td>\n",
       "      <td>120000</td>\n",
       "      <td>37.84</td>\n",
       "      <td>1298.0</td>\n",
       "      <td>5.0</td>\n",
       "      <td>130000</td>\n",
       "    </tr>\n",
       "    <tr>\n",
       "      <th>...</th>\n",
       "      <td>...</td>\n",
       "      <td>...</td>\n",
       "      <td>...</td>\n",
       "      <td>...</td>\n",
       "      <td>...</td>\n",
       "      <td>...</td>\n",
       "      <td>...</td>\n",
       "      <td>...</td>\n",
       "      <td>...</td>\n",
       "    </tr>\n",
       "    <tr>\n",
       "      <th>6921</th>\n",
       "      <td>Maruti</td>\n",
       "      <td>2013</td>\n",
       "      <td>Second</td>\n",
       "      <td>Petrol</td>\n",
       "      <td>50000</td>\n",
       "      <td>44.40</td>\n",
       "      <td>998.0</td>\n",
       "      <td>5.0</td>\n",
       "      <td>260000</td>\n",
       "    </tr>\n",
       "    <tr>\n",
       "      <th>6922</th>\n",
       "      <td>Hyundai</td>\n",
       "      <td>2014</td>\n",
       "      <td>Second</td>\n",
       "      <td>Diesel</td>\n",
       "      <td>80000</td>\n",
       "      <td>52.97</td>\n",
       "      <td>1396.0</td>\n",
       "      <td>5.0</td>\n",
       "      <td>475000</td>\n",
       "    </tr>\n",
       "    <tr>\n",
       "      <th>6923</th>\n",
       "      <td>Hyundai</td>\n",
       "      <td>2013</td>\n",
       "      <td>First</td>\n",
       "      <td>Petrol</td>\n",
       "      <td>110000</td>\n",
       "      <td>43.47</td>\n",
       "      <td>1197.0</td>\n",
       "      <td>5.0</td>\n",
       "      <td>320000</td>\n",
       "    </tr>\n",
       "    <tr>\n",
       "      <th>6924</th>\n",
       "      <td>Hyundai</td>\n",
       "      <td>2007</td>\n",
       "      <td>Fourth &amp; Above</td>\n",
       "      <td>Diesel</td>\n",
       "      <td>119000</td>\n",
       "      <td>39.47</td>\n",
       "      <td>1493.0</td>\n",
       "      <td>5.0</td>\n",
       "      <td>135000</td>\n",
       "    </tr>\n",
       "    <tr>\n",
       "      <th>6925</th>\n",
       "      <td>Maruti</td>\n",
       "      <td>2009</td>\n",
       "      <td>First</td>\n",
       "      <td>Diesel</td>\n",
       "      <td>120000</td>\n",
       "      <td>45.34</td>\n",
       "      <td>1248.0</td>\n",
       "      <td>5.0</td>\n",
       "      <td>382000</td>\n",
       "    </tr>\n",
       "  </tbody>\n",
       "</table>\n",
       "<p>6926 rows × 9 columns</p>\n",
       "</div>"
      ],
      "text/plain": [
       "      company  year           owner    fuel  km_driven  mileage_mpg  \\\n",
       "0      Maruti  2014           First  Diesel     145500        55.00   \n",
       "1       Skoda  2014          Second  Diesel     120000        49.70   \n",
       "2       Honda  2006           Third  Petrol     140000        41.60   \n",
       "3     Hyundai  2010           First  Diesel     127000        54.06   \n",
       "4      Maruti  2007           First  Petrol     120000        37.84   \n",
       "...       ...   ...             ...     ...        ...          ...   \n",
       "6921   Maruti  2013          Second  Petrol      50000        44.40   \n",
       "6922  Hyundai  2014          Second  Diesel      80000        52.97   \n",
       "6923  Hyundai  2013           First  Petrol     110000        43.47   \n",
       "6924  Hyundai  2007  Fourth & Above  Diesel     119000        39.47   \n",
       "6925   Maruti  2009           First  Diesel     120000        45.34   \n",
       "\n",
       "      engine_cc  seats  selling_price  \n",
       "0        1248.0    5.0         450000  \n",
       "1        1498.0    5.0         370000  \n",
       "2        1497.0    5.0         158000  \n",
       "3        1396.0    5.0         225000  \n",
       "4        1298.0    5.0         130000  \n",
       "...         ...    ...            ...  \n",
       "6921      998.0    5.0         260000  \n",
       "6922     1396.0    5.0         475000  \n",
       "6923     1197.0    5.0         320000  \n",
       "6924     1493.0    5.0         135000  \n",
       "6925     1248.0    5.0         382000  \n",
       "\n",
       "[6926 rows x 9 columns]"
      ]
     },
     "execution_count": 4,
     "metadata": {},
     "output_type": "execute_result"
    }
   ],
   "source": [
    "df = pd.read_csv(\n",
    "\t\"car-details.csv\",\n",
    "\tusecols=[\n",
    "\t\t\"company\",\n",
    "\t\t\"year\",\n",
    "\t\t\"owner\",\n",
    "\t\t\"fuel\",\n",
    "\t\t\"km_driven\",\n",
    "\t\t\"mileage_mpg\",\n",
    "\t\t\"engine_cc\",\n",
    "\t\t\"seats\",\n",
    "\t\t\"selling_price\"\n",
    "\t]\n",
    ")\n",
    "\n",
    "df"
   ]
  },
  {
   "cell_type": "markdown",
   "id": "0c4bad6c-29ee-44d5-803a-5d7f40238399",
   "metadata": {},
   "source": [
    "# 3. Analyzing the Data"
   ]
  },
  {
   "cell_type": "code",
   "execution_count": 5,
   "id": "c54dce7e-19b9-4e67-a566-a2c7cdb77951",
   "metadata": {},
   "outputs": [
    {
     "data": {
      "text/plain": [
       "company           object\n",
       "year               int64\n",
       "owner             object\n",
       "fuel              object\n",
       "km_driven          int64\n",
       "mileage_mpg      float64\n",
       "engine_cc        float64\n",
       "seats            float64\n",
       "selling_price      int64\n",
       "dtype: object"
      ]
     },
     "execution_count": 5,
     "metadata": {},
     "output_type": "execute_result"
    }
   ],
   "source": [
    "df.dtypes"
   ]
  },
  {
   "cell_type": "code",
   "execution_count": 10,
   "id": "9b9f410f-26de-47be-aa28-d53ebbbcd492",
   "metadata": {},
   "outputs": [],
   "source": [
    "def missing_info(df_):\n",
    "\tna_cols = [col for col in df_.columns if df_[col].isna().any()]\n",
    "\tna_counts = [df_[col].isna().sum() for col in na_cols]\n",
    "\tna_pcts = [df_[col].isna().mean() for col in na_cols]\n",
    "\t\n",
    "\treturn (\n",
    "\t\tpd\n",
    "\t\t.DataFrame(data={\n",
    "\t\t\t\"column\": na_cols,\n",
    "\t\t\t\"count\": na_counts,\n",
    "\t\t\t\"pct\": na_pcts\n",
    "\t\t})\n",
    "\t\t.sort_values(by=\"count\", ascending=False)\n",
    "\t\t.set_index(\"column\")\n",
    "\t)"
   ]
  },
  {
   "cell_type": "code",
   "execution_count": 9,
   "id": "26834ff1-47ae-4d57-b0cd-c51309dde2ac",
   "metadata": {},
   "outputs": [
    {
     "data": {
      "text/html": [
       "<div>\n",
       "<style scoped>\n",
       "    .dataframe tbody tr th:only-of-type {\n",
       "        vertical-align: middle;\n",
       "    }\n",
       "\n",
       "    .dataframe tbody tr th {\n",
       "        vertical-align: top;\n",
       "    }\n",
       "\n",
       "    .dataframe thead th {\n",
       "        text-align: right;\n",
       "    }\n",
       "</style>\n",
       "<table border=\"1\" class=\"dataframe\">\n",
       "  <thead>\n",
       "    <tr style=\"text-align: right;\">\n",
       "      <th></th>\n",
       "      <th>count</th>\n",
       "      <th>pct</th>\n",
       "    </tr>\n",
       "    <tr>\n",
       "      <th>column</th>\n",
       "      <th></th>\n",
       "      <th></th>\n",
       "    </tr>\n",
       "  </thead>\n",
       "  <tbody>\n",
       "    <tr>\n",
       "      <th>mileage_mpg</th>\n",
       "      <td>208</td>\n",
       "      <td>0.030032</td>\n",
       "    </tr>\n",
       "    <tr>\n",
       "      <th>engine_cc</th>\n",
       "      <td>208</td>\n",
       "      <td>0.030032</td>\n",
       "    </tr>\n",
       "    <tr>\n",
       "      <th>seats</th>\n",
       "      <td>208</td>\n",
       "      <td>0.030032</td>\n",
       "    </tr>\n",
       "  </tbody>\n",
       "</table>\n",
       "</div>"
      ],
      "text/plain": [
       "             count       pct\n",
       "column                      \n",
       "mileage_mpg    208  0.030032\n",
       "engine_cc      208  0.030032\n",
       "seats          208  0.030032"
      ]
     },
     "execution_count": 9,
     "metadata": {},
     "output_type": "execute_result"
    }
   ],
   "source": [
    "missing_info(df)"
   ]
  },
  {
   "cell_type": "markdown",
   "id": "573e2f9b-cbf4-4043-bfa6-d3c00e79f476",
   "metadata": {},
   "source": [
    "# 4. Splitting the Data"
   ]
  },
  {
   "cell_type": "code",
   "execution_count": 12,
   "id": "1c9b0498-f05d-4094-beec-0257840ab07e",
   "metadata": {},
   "outputs": [
    {
     "name": "stdout",
     "output_type": "stream",
     "text": [
      "(5540, 8) (5540,)\n",
      "(1386, 8) (1386,)\n"
     ]
    }
   ],
   "source": [
    "X = df.drop(columns=\"selling_price\")\n",
    "y = df.selling_price.copy()\n",
    "\n",
    "X_train, X_test, y_train, y_test = train_test_split(\n",
    "\tX,\n",
    "\ty,\n",
    "\ttest_size=0.2,\n",
    "\tshuffle=True,\n",
    "\trandom_state=42\n",
    ")\n",
    "\n",
    "print(X_train.shape, y_train.shape)\n",
    "print(X_test.shape, y_test.shape)"
   ]
  },
  {
   "cell_type": "code",
   "execution_count": 15,
   "id": "bb983e48-43b9-413d-9190-3e74f8608f91",
   "metadata": {},
   "outputs": [
    {
     "data": {
      "text/html": [
       "<div>\n",
       "<style scoped>\n",
       "    .dataframe tbody tr th:only-of-type {\n",
       "        vertical-align: middle;\n",
       "    }\n",
       "\n",
       "    .dataframe tbody tr th {\n",
       "        vertical-align: top;\n",
       "    }\n",
       "\n",
       "    .dataframe thead th {\n",
       "        text-align: right;\n",
       "    }\n",
       "</style>\n",
       "<table border=\"1\" class=\"dataframe\">\n",
       "  <thead>\n",
       "    <tr style=\"text-align: right;\">\n",
       "      <th></th>\n",
       "      <th>count</th>\n",
       "      <th>pct</th>\n",
       "    </tr>\n",
       "    <tr>\n",
       "      <th>column</th>\n",
       "      <th></th>\n",
       "      <th></th>\n",
       "    </tr>\n",
       "  </thead>\n",
       "  <tbody>\n",
       "    <tr>\n",
       "      <th>mileage_mpg</th>\n",
       "      <td>172</td>\n",
       "      <td>0.031047</td>\n",
       "    </tr>\n",
       "    <tr>\n",
       "      <th>engine_cc</th>\n",
       "      <td>172</td>\n",
       "      <td>0.031047</td>\n",
       "    </tr>\n",
       "    <tr>\n",
       "      <th>seats</th>\n",
       "      <td>172</td>\n",
       "      <td>0.031047</td>\n",
       "    </tr>\n",
       "  </tbody>\n",
       "</table>\n",
       "</div>"
      ],
      "text/plain": [
       "             count       pct\n",
       "column                      \n",
       "mileage_mpg    172  0.031047\n",
       "engine_cc      172  0.031047\n",
       "seats          172  0.031047"
      ]
     },
     "execution_count": 15,
     "metadata": {},
     "output_type": "execute_result"
    }
   ],
   "source": [
    "missing_info(X_train)"
   ]
  },
  {
   "cell_type": "markdown",
   "id": "480080fc-cea3-4236-ad0f-a8755d92e1e9",
   "metadata": {},
   "source": [
    "# 5. Preprocessing the Data"
   ]
  },
  {
   "cell_type": "code",
   "execution_count": 16,
   "id": "037df33e-17a3-4b28-a38a-0e27a46957d1",
   "metadata": {},
   "outputs": [
    {
     "data": {
      "text/html": [
       "<div>\n",
       "<style scoped>\n",
       "    .dataframe tbody tr th:only-of-type {\n",
       "        vertical-align: middle;\n",
       "    }\n",
       "\n",
       "    .dataframe tbody tr th {\n",
       "        vertical-align: top;\n",
       "    }\n",
       "\n",
       "    .dataframe thead th {\n",
       "        text-align: right;\n",
       "    }\n",
       "</style>\n",
       "<table border=\"1\" class=\"dataframe\">\n",
       "  <thead>\n",
       "    <tr style=\"text-align: right;\">\n",
       "      <th></th>\n",
       "      <th>company</th>\n",
       "      <th>year</th>\n",
       "      <th>owner</th>\n",
       "      <th>fuel</th>\n",
       "      <th>km_driven</th>\n",
       "      <th>mileage_mpg</th>\n",
       "      <th>engine_cc</th>\n",
       "      <th>seats</th>\n",
       "    </tr>\n",
       "  </thead>\n",
       "  <tbody>\n",
       "    <tr>\n",
       "      <th>4855</th>\n",
       "      <td>Ford</td>\n",
       "      <td>2018</td>\n",
       "      <td>First</td>\n",
       "      <td>Diesel</td>\n",
       "      <td>25000</td>\n",
       "      <td>54.06</td>\n",
       "      <td>1498.0</td>\n",
       "      <td>5.0</td>\n",
       "    </tr>\n",
       "    <tr>\n",
       "      <th>3143</th>\n",
       "      <td>Maruti</td>\n",
       "      <td>2010</td>\n",
       "      <td>Second</td>\n",
       "      <td>Petrol</td>\n",
       "      <td>170000</td>\n",
       "      <td>NaN</td>\n",
       "      <td>NaN</td>\n",
       "      <td>NaN</td>\n",
       "    </tr>\n",
       "    <tr>\n",
       "      <th>4275</th>\n",
       "      <td>Hyundai</td>\n",
       "      <td>2011</td>\n",
       "      <td>Second</td>\n",
       "      <td>Diesel</td>\n",
       "      <td>75500</td>\n",
       "      <td>54.06</td>\n",
       "      <td>1396.0</td>\n",
       "      <td>5.0</td>\n",
       "    </tr>\n",
       "    <tr>\n",
       "      <th>2288</th>\n",
       "      <td>Maruti</td>\n",
       "      <td>2009</td>\n",
       "      <td>Second</td>\n",
       "      <td>Diesel</td>\n",
       "      <td>138000</td>\n",
       "      <td>45.34</td>\n",
       "      <td>1248.0</td>\n",
       "      <td>5.0</td>\n",
       "    </tr>\n",
       "    <tr>\n",
       "      <th>3914</th>\n",
       "      <td>Hyundai</td>\n",
       "      <td>2003</td>\n",
       "      <td>Second</td>\n",
       "      <td>Diesel</td>\n",
       "      <td>200000</td>\n",
       "      <td>30.78</td>\n",
       "      <td>1493.0</td>\n",
       "      <td>5.0</td>\n",
       "    </tr>\n",
       "  </tbody>\n",
       "</table>\n",
       "</div>"
      ],
      "text/plain": [
       "      company  year   owner    fuel  km_driven  mileage_mpg  engine_cc  seats\n",
       "4855     Ford  2018   First  Diesel      25000        54.06     1498.0    5.0\n",
       "3143   Maruti  2010  Second  Petrol     170000          NaN        NaN    NaN\n",
       "4275  Hyundai  2011  Second  Diesel      75500        54.06     1396.0    5.0\n",
       "2288   Maruti  2009  Second  Diesel     138000        45.34     1248.0    5.0\n",
       "3914  Hyundai  2003  Second  Diesel     200000        30.78     1493.0    5.0"
      ]
     },
     "execution_count": 16,
     "metadata": {},
     "output_type": "execute_result"
    }
   ],
   "source": [
    "X_train.head()"
   ]
  },
  {
   "cell_type": "code",
   "execution_count": 24,
   "id": "ef0fa5b6-38c1-4b6a-9aea-b00d15ec6b00",
   "metadata": {},
   "outputs": [],
   "source": [
    "num_cols = X_train.select_dtypes(exclude=\"O\").columns.to_list()\n",
    "cat_cols = np.setdiff1d(X_train.columns, num_cols).tolist()"
   ]
  },
  {
   "cell_type": "code",
   "execution_count": 30,
   "id": "1dada168-bae0-4765-95cc-20269a49bfa5",
   "metadata": {},
   "outputs": [],
   "source": [
    "num_pipe = Pipeline(steps=[\n",
    "\t(\"imputer\", SimpleImputer(strategy=\"median\")),\n",
    "\t(\"scaler\", StandardScaler())\n",
    "])\n",
    "\n",
    "cat_pipe = Pipeline(steps=[\n",
    "\t(\"imputer\", SimpleImputer(strategy=\"most_frequent\")),\n",
    "\t(\"encoder\", OneHotEncoder(handle_unknown=\"ignore\"))\n",
    "])\n",
    "\n",
    "preprocessor = ColumnTransformer(transformers=[\n",
    "\t(\"num\", num_pipe, num_cols),\n",
    "\t(\"cat\", cat_pipe, cat_cols)\n",
    "])"
   ]
  },
  {
   "cell_type": "markdown",
   "id": "c6b8c415-52a3-43c5-a58a-4609799537c1",
   "metadata": {},
   "source": [
    "# 6. Training the Model"
   ]
  },
  {
   "cell_type": "code",
   "execution_count": 31,
   "id": "f8d7e30d-9372-4297-9e19-fe7163717375",
   "metadata": {},
   "outputs": [
    {
     "data": {
      "text/html": [
       "<style>#sk-container-id-1 {color: black;}#sk-container-id-1 pre{padding: 0;}#sk-container-id-1 div.sk-toggleable {background-color: white;}#sk-container-id-1 label.sk-toggleable__label {cursor: pointer;display: block;width: 100%;margin-bottom: 0;padding: 0.3em;box-sizing: border-box;text-align: center;}#sk-container-id-1 label.sk-toggleable__label-arrow:before {content: \"▸\";float: left;margin-right: 0.25em;color: #696969;}#sk-container-id-1 label.sk-toggleable__label-arrow:hover:before {color: black;}#sk-container-id-1 div.sk-estimator:hover label.sk-toggleable__label-arrow:before {color: black;}#sk-container-id-1 div.sk-toggleable__content {max-height: 0;max-width: 0;overflow: hidden;text-align: left;background-color: #f0f8ff;}#sk-container-id-1 div.sk-toggleable__content pre {margin: 0.2em;color: black;border-radius: 0.25em;background-color: #f0f8ff;}#sk-container-id-1 input.sk-toggleable__control:checked~div.sk-toggleable__content {max-height: 200px;max-width: 100%;overflow: auto;}#sk-container-id-1 input.sk-toggleable__control:checked~label.sk-toggleable__label-arrow:before {content: \"▾\";}#sk-container-id-1 div.sk-estimator input.sk-toggleable__control:checked~label.sk-toggleable__label {background-color: #d4ebff;}#sk-container-id-1 div.sk-label input.sk-toggleable__control:checked~label.sk-toggleable__label {background-color: #d4ebff;}#sk-container-id-1 input.sk-hidden--visually {border: 0;clip: rect(1px 1px 1px 1px);clip: rect(1px, 1px, 1px, 1px);height: 1px;margin: -1px;overflow: hidden;padding: 0;position: absolute;width: 1px;}#sk-container-id-1 div.sk-estimator {font-family: monospace;background-color: #f0f8ff;border: 1px dotted black;border-radius: 0.25em;box-sizing: border-box;margin-bottom: 0.5em;}#sk-container-id-1 div.sk-estimator:hover {background-color: #d4ebff;}#sk-container-id-1 div.sk-parallel-item::after {content: \"\";width: 100%;border-bottom: 1px solid gray;flex-grow: 1;}#sk-container-id-1 div.sk-label:hover label.sk-toggleable__label {background-color: #d4ebff;}#sk-container-id-1 div.sk-serial::before {content: \"\";position: absolute;border-left: 1px solid gray;box-sizing: border-box;top: 0;bottom: 0;left: 50%;z-index: 0;}#sk-container-id-1 div.sk-serial {display: flex;flex-direction: column;align-items: center;background-color: white;padding-right: 0.2em;padding-left: 0.2em;position: relative;}#sk-container-id-1 div.sk-item {position: relative;z-index: 1;}#sk-container-id-1 div.sk-parallel {display: flex;align-items: stretch;justify-content: center;background-color: white;position: relative;}#sk-container-id-1 div.sk-item::before, #sk-container-id-1 div.sk-parallel-item::before {content: \"\";position: absolute;border-left: 1px solid gray;box-sizing: border-box;top: 0;bottom: 0;left: 50%;z-index: -1;}#sk-container-id-1 div.sk-parallel-item {display: flex;flex-direction: column;z-index: 1;position: relative;background-color: white;}#sk-container-id-1 div.sk-parallel-item:first-child::after {align-self: flex-end;width: 50%;}#sk-container-id-1 div.sk-parallel-item:last-child::after {align-self: flex-start;width: 50%;}#sk-container-id-1 div.sk-parallel-item:only-child::after {width: 0;}#sk-container-id-1 div.sk-dashed-wrapped {border: 1px dashed gray;margin: 0 0.4em 0.5em 0.4em;box-sizing: border-box;padding-bottom: 0.4em;background-color: white;}#sk-container-id-1 div.sk-label label {font-family: monospace;font-weight: bold;display: inline-block;line-height: 1.2em;}#sk-container-id-1 div.sk-label-container {text-align: center;}#sk-container-id-1 div.sk-container {/* jupyter's `normalize.less` sets `[hidden] { display: none; }` but bootstrap.min.css set `[hidden] { display: none !important; }` so we also need the `!important` here to be able to override the default hidden behavior on the sphinx rendered scikit-learn.org. See: https://github.com/scikit-learn/scikit-learn/issues/21755 */display: inline-block !important;position: relative;}#sk-container-id-1 div.sk-text-repr-fallback {display: none;}</style><div id=\"sk-container-id-1\" class=\"sk-top-container\"><div class=\"sk-text-repr-fallback\"><pre>Pipeline(steps=[(&#x27;pre&#x27;,\n",
       "                 ColumnTransformer(transformers=[(&#x27;num&#x27;,\n",
       "                                                  Pipeline(steps=[(&#x27;imputer&#x27;,\n",
       "                                                                   SimpleImputer(strategy=&#x27;median&#x27;)),\n",
       "                                                                  (&#x27;scaler&#x27;,\n",
       "                                                                   StandardScaler())]),\n",
       "                                                  [&#x27;year&#x27;, &#x27;km_driven&#x27;,\n",
       "                                                   &#x27;mileage_mpg&#x27;, &#x27;engine_cc&#x27;,\n",
       "                                                   &#x27;seats&#x27;]),\n",
       "                                                 (&#x27;cat&#x27;,\n",
       "                                                  Pipeline(steps=[(&#x27;imputer&#x27;,\n",
       "                                                                   SimpleImputer(strategy=&#x27;most_frequent&#x27;)),\n",
       "                                                                  (&#x27;encoder&#x27;,\n",
       "                                                                   OneHotEncoder(handle_unknown=&#x27;ignore&#x27;))]),\n",
       "                                                  [&#x27;company&#x27;, &#x27;fuel&#x27;,\n",
       "                                                   &#x27;owner&#x27;])])),\n",
       "                (&#x27;reg&#x27;, RandomForestRegressor(random_state=42))])</pre><b>In a Jupyter environment, please rerun this cell to show the HTML representation or trust the notebook. <br />On GitHub, the HTML representation is unable to render, please try loading this page with nbviewer.org.</b></div><div class=\"sk-container\" hidden><div class=\"sk-item sk-dashed-wrapped\"><div class=\"sk-label-container\"><div class=\"sk-label sk-toggleable\"><input class=\"sk-toggleable__control sk-hidden--visually\" id=\"sk-estimator-id-1\" type=\"checkbox\" ><label for=\"sk-estimator-id-1\" class=\"sk-toggleable__label sk-toggleable__label-arrow\">Pipeline</label><div class=\"sk-toggleable__content\"><pre>Pipeline(steps=[(&#x27;pre&#x27;,\n",
       "                 ColumnTransformer(transformers=[(&#x27;num&#x27;,\n",
       "                                                  Pipeline(steps=[(&#x27;imputer&#x27;,\n",
       "                                                                   SimpleImputer(strategy=&#x27;median&#x27;)),\n",
       "                                                                  (&#x27;scaler&#x27;,\n",
       "                                                                   StandardScaler())]),\n",
       "                                                  [&#x27;year&#x27;, &#x27;km_driven&#x27;,\n",
       "                                                   &#x27;mileage_mpg&#x27;, &#x27;engine_cc&#x27;,\n",
       "                                                   &#x27;seats&#x27;]),\n",
       "                                                 (&#x27;cat&#x27;,\n",
       "                                                  Pipeline(steps=[(&#x27;imputer&#x27;,\n",
       "                                                                   SimpleImputer(strategy=&#x27;most_frequent&#x27;)),\n",
       "                                                                  (&#x27;encoder&#x27;,\n",
       "                                                                   OneHotEncoder(handle_unknown=&#x27;ignore&#x27;))]),\n",
       "                                                  [&#x27;company&#x27;, &#x27;fuel&#x27;,\n",
       "                                                   &#x27;owner&#x27;])])),\n",
       "                (&#x27;reg&#x27;, RandomForestRegressor(random_state=42))])</pre></div></div></div><div class=\"sk-serial\"><div class=\"sk-item sk-dashed-wrapped\"><div class=\"sk-label-container\"><div class=\"sk-label sk-toggleable\"><input class=\"sk-toggleable__control sk-hidden--visually\" id=\"sk-estimator-id-2\" type=\"checkbox\" ><label for=\"sk-estimator-id-2\" class=\"sk-toggleable__label sk-toggleable__label-arrow\">pre: ColumnTransformer</label><div class=\"sk-toggleable__content\"><pre>ColumnTransformer(transformers=[(&#x27;num&#x27;,\n",
       "                                 Pipeline(steps=[(&#x27;imputer&#x27;,\n",
       "                                                  SimpleImputer(strategy=&#x27;median&#x27;)),\n",
       "                                                 (&#x27;scaler&#x27;, StandardScaler())]),\n",
       "                                 [&#x27;year&#x27;, &#x27;km_driven&#x27;, &#x27;mileage_mpg&#x27;,\n",
       "                                  &#x27;engine_cc&#x27;, &#x27;seats&#x27;]),\n",
       "                                (&#x27;cat&#x27;,\n",
       "                                 Pipeline(steps=[(&#x27;imputer&#x27;,\n",
       "                                                  SimpleImputer(strategy=&#x27;most_frequent&#x27;)),\n",
       "                                                 (&#x27;encoder&#x27;,\n",
       "                                                  OneHotEncoder(handle_unknown=&#x27;ignore&#x27;))]),\n",
       "                                 [&#x27;company&#x27;, &#x27;fuel&#x27;, &#x27;owner&#x27;])])</pre></div></div></div><div class=\"sk-parallel\"><div class=\"sk-parallel-item\"><div class=\"sk-item\"><div class=\"sk-label-container\"><div class=\"sk-label sk-toggleable\"><input class=\"sk-toggleable__control sk-hidden--visually\" id=\"sk-estimator-id-3\" type=\"checkbox\" ><label for=\"sk-estimator-id-3\" class=\"sk-toggleable__label sk-toggleable__label-arrow\">num</label><div class=\"sk-toggleable__content\"><pre>[&#x27;year&#x27;, &#x27;km_driven&#x27;, &#x27;mileage_mpg&#x27;, &#x27;engine_cc&#x27;, &#x27;seats&#x27;]</pre></div></div></div><div class=\"sk-serial\"><div class=\"sk-item\"><div class=\"sk-serial\"><div class=\"sk-item\"><div class=\"sk-estimator sk-toggleable\"><input class=\"sk-toggleable__control sk-hidden--visually\" id=\"sk-estimator-id-4\" type=\"checkbox\" ><label for=\"sk-estimator-id-4\" class=\"sk-toggleable__label sk-toggleable__label-arrow\">SimpleImputer</label><div class=\"sk-toggleable__content\"><pre>SimpleImputer(strategy=&#x27;median&#x27;)</pre></div></div></div><div class=\"sk-item\"><div class=\"sk-estimator sk-toggleable\"><input class=\"sk-toggleable__control sk-hidden--visually\" id=\"sk-estimator-id-5\" type=\"checkbox\" ><label for=\"sk-estimator-id-5\" class=\"sk-toggleable__label sk-toggleable__label-arrow\">StandardScaler</label><div class=\"sk-toggleable__content\"><pre>StandardScaler()</pre></div></div></div></div></div></div></div></div><div class=\"sk-parallel-item\"><div class=\"sk-item\"><div class=\"sk-label-container\"><div class=\"sk-label sk-toggleable\"><input class=\"sk-toggleable__control sk-hidden--visually\" id=\"sk-estimator-id-6\" type=\"checkbox\" ><label for=\"sk-estimator-id-6\" class=\"sk-toggleable__label sk-toggleable__label-arrow\">cat</label><div class=\"sk-toggleable__content\"><pre>[&#x27;company&#x27;, &#x27;fuel&#x27;, &#x27;owner&#x27;]</pre></div></div></div><div class=\"sk-serial\"><div class=\"sk-item\"><div class=\"sk-serial\"><div class=\"sk-item\"><div class=\"sk-estimator sk-toggleable\"><input class=\"sk-toggleable__control sk-hidden--visually\" id=\"sk-estimator-id-7\" type=\"checkbox\" ><label for=\"sk-estimator-id-7\" class=\"sk-toggleable__label sk-toggleable__label-arrow\">SimpleImputer</label><div class=\"sk-toggleable__content\"><pre>SimpleImputer(strategy=&#x27;most_frequent&#x27;)</pre></div></div></div><div class=\"sk-item\"><div class=\"sk-estimator sk-toggleable\"><input class=\"sk-toggleable__control sk-hidden--visually\" id=\"sk-estimator-id-8\" type=\"checkbox\" ><label for=\"sk-estimator-id-8\" class=\"sk-toggleable__label sk-toggleable__label-arrow\">OneHotEncoder</label><div class=\"sk-toggleable__content\"><pre>OneHotEncoder(handle_unknown=&#x27;ignore&#x27;)</pre></div></div></div></div></div></div></div></div></div></div><div class=\"sk-item\"><div class=\"sk-estimator sk-toggleable\"><input class=\"sk-toggleable__control sk-hidden--visually\" id=\"sk-estimator-id-9\" type=\"checkbox\" ><label for=\"sk-estimator-id-9\" class=\"sk-toggleable__label sk-toggleable__label-arrow\">RandomForestRegressor</label><div class=\"sk-toggleable__content\"><pre>RandomForestRegressor(random_state=42)</pre></div></div></div></div></div></div></div>"
      ],
      "text/plain": [
       "Pipeline(steps=[('pre',\n",
       "                 ColumnTransformer(transformers=[('num',\n",
       "                                                  Pipeline(steps=[('imputer',\n",
       "                                                                   SimpleImputer(strategy='median')),\n",
       "                                                                  ('scaler',\n",
       "                                                                   StandardScaler())]),\n",
       "                                                  ['year', 'km_driven',\n",
       "                                                   'mileage_mpg', 'engine_cc',\n",
       "                                                   'seats']),\n",
       "                                                 ('cat',\n",
       "                                                  Pipeline(steps=[('imputer',\n",
       "                                                                   SimpleImputer(strategy='most_frequent')),\n",
       "                                                                  ('encoder',\n",
       "                                                                   OneHotEncoder(handle_unknown='ignore'))]),\n",
       "                                                  ['company', 'fuel',\n",
       "                                                   'owner'])])),\n",
       "                ('reg', RandomForestRegressor(random_state=42))])"
      ]
     },
     "execution_count": 31,
     "metadata": {},
     "output_type": "execute_result"
    }
   ],
   "source": [
    "reg = RandomForestRegressor(random_state=42)\n",
    "\n",
    "model = Pipeline(steps=[\n",
    "\t(\"pre\", preprocessor),\n",
    "\t(\"reg\", reg)\n",
    "])\n",
    "\n",
    "model.fit(X_train, y_train)"
   ]
  },
  {
   "cell_type": "markdown",
   "id": "cf9810d2-5096-412e-80bd-ff8ce644f452",
   "metadata": {},
   "source": [
    "# 7. Evaluate the Model"
   ]
  },
  {
   "cell_type": "code",
   "execution_count": 33,
   "id": "e9dd6d10-f23a-4c22-8e42-8c83939db5c5",
   "metadata": {},
   "outputs": [
    {
     "data": {
      "text/plain": [
       "0.8220883761156546"
      ]
     },
     "execution_count": 33,
     "metadata": {},
     "output_type": "execute_result"
    }
   ],
   "source": [
    "y_test_pred = model.predict(X_test)\n",
    "\n",
    "r2_score(y_test, y_test_pred)"
   ]
  },
  {
   "cell_type": "markdown",
   "id": "c4da367c-f90d-44b0-b6be-f08c371da9ef",
   "metadata": {},
   "source": [
    "### 7.1 Adjusted R2"
   ]
  },
  {
   "cell_type": "code",
   "execution_count": 57,
   "id": "1abb24ac-3ab5-4e7c-ba20-67f6d02cd718",
   "metadata": {},
   "outputs": [],
   "source": [
    "def adj_r2(y_test, y_pred, **kwargs):\n",
    "\tn, p = kwargs[\"data\"].shape\n",
    "\tr2 = r2_score(y_test, y_pred)\n",
    "\treturn 1 - ((1 - r2) * (n - 1) / (n - p - 1))"
   ]
  },
  {
   "cell_type": "code",
   "execution_count": 58,
   "id": "2c291587-2b7b-4442-acb1-ccb6e68b322e",
   "metadata": {},
   "outputs": [
    {
     "data": {
      "text/plain": [
       "0.8218310459780529"
      ]
     },
     "execution_count": 58,
     "metadata": {},
     "output_type": "execute_result"
    }
   ],
   "source": [
    "adj_r2(y_test, y_test_pred, data=X_train)"
   ]
  },
  {
   "cell_type": "code",
   "execution_count": 59,
   "id": "399d0f9f-b0f1-4526-b8f8-54f0a86ff8fa",
   "metadata": {},
   "outputs": [],
   "source": [
    "adj_r2_score = make_scorer(\n",
    "\tadj_r2,\n",
    "\tresponse_method=\"predict\",\n",
    "\tgreater_is_better=True,\n",
    "\tneeds_proba=False,\n",
    "\tdata=X_train\n",
    ")"
   ]
  },
  {
   "cell_type": "markdown",
   "id": "e45cf66c-22ea-42fe-ba91-9d7a82ce8652",
   "metadata": {},
   "source": [
    "### 7.2 Cross-validation Score"
   ]
  },
  {
   "cell_type": "code",
   "execution_count": 60,
   "id": "8c0a7f7f-cff9-44ab-8a8d-c487ffe289e5",
   "metadata": {},
   "outputs": [
    {
     "data": {
      "text/plain": [
       "0.847264077129562"
      ]
     },
     "execution_count": 60,
     "metadata": {},
     "output_type": "execute_result"
    }
   ],
   "source": [
    "cv_scores = cross_val_score(\n",
    "\tmodel,\n",
    "\tX_train,\n",
    "\ty_train,\n",
    "\tscoring=adj_r2_score,\n",
    "\tcv=3,\n",
    "\tn_jobs=-1\n",
    ")\n",
    "\n",
    "np.mean(cv_scores)"
   ]
  },
  {
   "cell_type": "markdown",
   "id": "5f937531-7cbb-4e3b-ba9d-0e5a2801a4ef",
   "metadata": {},
   "source": [
    "# 8. Save the Model"
   ]
  },
  {
   "cell_type": "code",
   "execution_count": 62,
   "id": "dc10f8c1-e023-4f6c-8b03-6e57a55a32ba",
   "metadata": {},
   "outputs": [
    {
     "data": {
      "text/plain": [
       "['model.joblib']"
      ]
     },
     "execution_count": 62,
     "metadata": {},
     "output_type": "execute_result"
    }
   ],
   "source": [
    "joblib.dump(model, \"model.joblib\")"
   ]
  },
  {
   "cell_type": "code",
   "execution_count": null,
   "id": "32c10fb0-6fa3-4958-aea6-fe13654c9d01",
   "metadata": {},
   "outputs": [],
   "source": []
  }
 ],
 "metadata": {
  "kernelspec": {
   "display_name": "demo",
   "language": "python",
   "name": "demo"
  },
  "language_info": {
   "codemirror_mode": {
    "name": "ipython",
    "version": 3
   },
   "file_extension": ".py",
   "mimetype": "text/x-python",
   "name": "python",
   "nbconvert_exporter": "python",
   "pygments_lexer": "ipython3",
   "version": "3.11.1"
  }
 },
 "nbformat": 4,
 "nbformat_minor": 5
}
